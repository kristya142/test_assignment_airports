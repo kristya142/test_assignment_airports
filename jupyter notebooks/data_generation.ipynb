{
 "cells": [
  {
   "cell_type": "markdown",
   "id": "2950e1e7",
   "metadata": {},
   "source": [
    "### Статистические отчеты выполнения расписания авиационных перелетов"
   ]
  },
  {
   "cell_type": "markdown",
   "id": "d87eb871",
   "metadata": {},
   "source": [
    "#### Часть 1."
   ]
  },
  {
   "cell_type": "markdown",
   "id": "2be2b59e",
   "metadata": {},
   "source": [
    "#### Получить данные из внешнего источника. Аэропорты. "
   ]
  },
  {
   "cell_type": "markdown",
   "id": "a32944c8",
   "metadata": {},
   "source": [
    "Внешний источник JSON.\n",
    "\n",
    "GET http://www.alarstudios.com/test/data.cgi (выдает по 10 строк данных, параметры p=N - номер страницы, code=XXX - код доступа, который необходимо получить с помощью запроса, описанного ниже)\n",
    "\n",
    "GET https://www.alarstudios.com/test/auth.cgi (выдает результат авторизации и код, параметры username=XXX, password=XXX, откроется на test/123)\n",
    "\n",
    "Замеченная ошибка: в инструкции для двух запросов указан метод GET, а нужно использовать POST"
   ]
  },
  {
   "cell_type": "markdown",
   "id": "76367d03",
   "metadata": {},
   "source": [
    "Получаем авторизационные данные"
   ]
  },
  {
   "cell_type": "code",
   "execution_count": 1,
   "id": "98f67766",
   "metadata": {},
   "outputs": [],
   "source": [
    "import requests\n",
    "\n",
    "auth_url = \"https://www.alarstudios.com/test/auth.cgi\"\n",
    "url_data = {\n",
    "    \"username\": \"test\",\n",
    "    \"password\": \"123\"\n",
    "}\n",
    "result = requests.post(auth_url, data=url_data)\n",
    "result = result.json()\n",
    "if result['status'] != 'ok':\n",
    "    print('error') \n",
    "else:\n",
    "    access_code = result['code']"
   ]
  },
  {
   "cell_type": "markdown",
   "id": "1bc931de",
   "metadata": {},
   "source": [
    "Скачиваем данные"
   ]
  },
  {
   "cell_type": "code",
   "execution_count": 2,
   "id": "ddfa9516",
   "metadata": {},
   "outputs": [],
   "source": [
    "from json import JSONDecodeError\n",
    "request_url = \"https://www.alarstudios.com/test/data.cgi\"\n",
    "page = 1\n",
    "raw_data = []\n",
    "download = True\n",
    "url_data = {\n",
    "    \"code\": access_code,\n",
    "    \"p\": page\n",
    "}\n",
    "\n",
    "while download:\n",
    "    result = requests.post(request_url, data=url_data)\n",
    "    try:\n",
    "        result = result.json()\n",
    "        if result['status'] != 'ok':\n",
    "            print('error')\n",
    "            break\n",
    "        data = result[\"data\"]\n",
    "        if len(data) < 10:\n",
    "            download = False\n",
    "            \n",
    "        raw_data.extend(data)\n",
    "    except JSONDecodeError:\n",
    "        pass\n",
    "    url_data[\"p\"] += 1"
   ]
  },
  {
   "cell_type": "markdown",
   "id": "800acc66",
   "metadata": {},
   "source": [
    "Формируем датафрейм из скачанных данных"
   ]
  },
  {
   "cell_type": "code",
   "execution_count": 10,
   "id": "dc52107e",
   "metadata": {
    "scrolled": true
   },
   "outputs": [
    {
     "data": {
      "text/html": [
       "<div>\n",
       "<style scoped>\n",
       "    .dataframe tbody tr th:only-of-type {\n",
       "        vertical-align: middle;\n",
       "    }\n",
       "\n",
       "    .dataframe tbody tr th {\n",
       "        vertical-align: top;\n",
       "    }\n",
       "\n",
       "    .dataframe thead th {\n",
       "        text-align: right;\n",
       "    }\n",
       "</style>\n",
       "<table border=\"1\" class=\"dataframe\">\n",
       "  <thead>\n",
       "    <tr style=\"text-align: right;\">\n",
       "      <th></th>\n",
       "      <th>id</th>\n",
       "      <th>name</th>\n",
       "      <th>country</th>\n",
       "      <th>lat</th>\n",
       "      <th>lon</th>\n",
       "    </tr>\n",
       "  </thead>\n",
       "  <tbody>\n",
       "    <tr>\n",
       "      <th>0</th>\n",
       "      <td>KVQQ</td>\n",
       "      <td>CECIL</td>\n",
       "      <td>United States of America</td>\n",
       "      <td>30.218778</td>\n",
       "      <td>-81.877167</td>\n",
       "    </tr>\n",
       "    <tr>\n",
       "      <th>1</th>\n",
       "      <td>KNQX</td>\n",
       "      <td>KEY WEST NAS/BOCA CHICA FIELD</td>\n",
       "      <td>United States of America</td>\n",
       "      <td>24.574636</td>\n",
       "      <td>-81.686644</td>\n",
       "    </tr>\n",
       "    <tr>\n",
       "      <th>2</th>\n",
       "      <td>KEYW</td>\n",
       "      <td>KEY WEST INTL</td>\n",
       "      <td>United States of America</td>\n",
       "      <td>24.556111</td>\n",
       "      <td>-81.759556</td>\n",
       "    </tr>\n",
       "    <tr>\n",
       "      <th>3</th>\n",
       "      <td>KISM</td>\n",
       "      <td>KISSIMMEE GATEWAY</td>\n",
       "      <td>United States of America</td>\n",
       "      <td>28.289806</td>\n",
       "      <td>-81.437083</td>\n",
       "    </tr>\n",
       "    <tr>\n",
       "      <th>4</th>\n",
       "      <td>KLAL</td>\n",
       "      <td>LAKELAND LINDER RGNL</td>\n",
       "      <td>United States of America</td>\n",
       "      <td>27.988917</td>\n",
       "      <td>-82.018556</td>\n",
       "    </tr>\n",
       "    <tr>\n",
       "      <th>5</th>\n",
       "      <td>KLEE</td>\n",
       "      <td>LEESBURG INTL</td>\n",
       "      <td>United States of America</td>\n",
       "      <td>28.822889</td>\n",
       "      <td>-81.808417</td>\n",
       "    </tr>\n",
       "    <tr>\n",
       "      <th>6</th>\n",
       "      <td>KMCF</td>\n",
       "      <td>MACDILL AFB</td>\n",
       "      <td>United States of America</td>\n",
       "      <td>27.849333</td>\n",
       "      <td>-82.521167</td>\n",
       "    </tr>\n",
       "    <tr>\n",
       "      <th>7</th>\n",
       "      <td>KMTH</td>\n",
       "      <td>THE FLORIDA KEYS MARATHON</td>\n",
       "      <td>United States of America</td>\n",
       "      <td>24.726194</td>\n",
       "      <td>-81.051361</td>\n",
       "    </tr>\n",
       "    <tr>\n",
       "      <th>8</th>\n",
       "      <td>KNRB</td>\n",
       "      <td>MAYPORT NS (ADM DAVID L. MCDONALD FIELD)</td>\n",
       "      <td>United States of America</td>\n",
       "      <td>30.391375</td>\n",
       "      <td>-81.424519</td>\n",
       "    </tr>\n",
       "    <tr>\n",
       "      <th>9</th>\n",
       "      <td>KMLB</td>\n",
       "      <td>MELBOURNE INTL</td>\n",
       "      <td>United States of America</td>\n",
       "      <td>28.102750</td>\n",
       "      <td>-80.645250</td>\n",
       "    </tr>\n",
       "  </tbody>\n",
       "</table>\n",
       "</div>"
      ],
      "text/plain": [
       "     id                                      name                   country  \\\n",
       "0  KVQQ                                     CECIL  United States of America   \n",
       "1  KNQX             KEY WEST NAS/BOCA CHICA FIELD  United States of America   \n",
       "2  KEYW                             KEY WEST INTL  United States of America   \n",
       "3  KISM                         KISSIMMEE GATEWAY  United States of America   \n",
       "4  KLAL                      LAKELAND LINDER RGNL  United States of America   \n",
       "5  KLEE                             LEESBURG INTL  United States of America   \n",
       "6  KMCF                               MACDILL AFB  United States of America   \n",
       "7  KMTH                 THE FLORIDA KEYS MARATHON  United States of America   \n",
       "8  KNRB  MAYPORT NS (ADM DAVID L. MCDONALD FIELD)  United States of America   \n",
       "9  KMLB                            MELBOURNE INTL  United States of America   \n",
       "\n",
       "         lat        lon  \n",
       "0  30.218778 -81.877167  \n",
       "1  24.574636 -81.686644  \n",
       "2  24.556111 -81.759556  \n",
       "3  28.289806 -81.437083  \n",
       "4  27.988917 -82.018556  \n",
       "5  28.822889 -81.808417  \n",
       "6  27.849333 -82.521167  \n",
       "7  24.726194 -81.051361  \n",
       "8  30.391375 -81.424519  \n",
       "9  28.102750 -80.645250  "
      ]
     },
     "execution_count": 10,
     "metadata": {},
     "output_type": "execute_result"
    }
   ],
   "source": [
    "import pandas as pd\n",
    "\n",
    "df = pd.DataFrame(raw_data)\n",
    "df.to_csv(\"raw_data.csv\")\n",
    "df.head(10)"
   ]
  },
  {
   "cell_type": "markdown",
   "id": "477e6ebf",
   "metadata": {},
   "source": [
    "Пыталась найти обознаечние аэропорта Косово, но в загруженных данных его не обнаружила. Вероятно, еще одна ошибка."
   ]
  },
  {
   "cell_type": "code",
   "execution_count": 39,
   "id": "ed38500c",
   "metadata": {},
   "outputs": [
    {
     "data": {
      "text/html": [
       "<div>\n",
       "<style scoped>\n",
       "    .dataframe tbody tr th:only-of-type {\n",
       "        vertical-align: middle;\n",
       "    }\n",
       "\n",
       "    .dataframe tbody tr th {\n",
       "        vertical-align: top;\n",
       "    }\n",
       "\n",
       "    .dataframe thead th {\n",
       "        text-align: right;\n",
       "    }\n",
       "</style>\n",
       "<table border=\"1\" class=\"dataframe\">\n",
       "  <thead>\n",
       "    <tr style=\"text-align: right;\">\n",
       "      <th></th>\n",
       "      <th>id</th>\n",
       "      <th>name</th>\n",
       "      <th>country</th>\n",
       "      <th>lat</th>\n",
       "      <th>lon</th>\n",
       "    </tr>\n",
       "  </thead>\n",
       "  <tbody>\n",
       "  </tbody>\n",
       "</table>\n",
       "</div>"
      ],
      "text/plain": [
       "Empty DataFrame\n",
       "Columns: [id, name, country, lat, lon]\n",
       "Index: []"
      ]
     },
     "execution_count": 39,
     "metadata": {},
     "output_type": "execute_result"
    }
   ],
   "source": [
    "# https://en.wikipedia.org/wiki/List_of_airports_in_Kosovo\n",
    "df[(df['id'] == 'BKPR') | (df['id'] == 'PRN')]"
   ]
  },
  {
   "cell_type": "markdown",
   "id": "a8933b8e",
   "metadata": {},
   "source": [
    "Оставляем только европейские аэропорты, по ТЗ начинаются с E и L"
   ]
  },
  {
   "cell_type": "code",
   "execution_count": 40,
   "id": "ff7a5976",
   "metadata": {},
   "outputs": [
    {
     "name": "stdout",
     "output_type": "stream",
     "text": [
      "<class 'pandas.core.frame.DataFrame'>\n",
      "Int64Index: 788 entries, 924 to 2228\n",
      "Data columns (total 5 columns):\n",
      " #   Column   Non-Null Count  Dtype  \n",
      "---  ------   --------------  -----  \n",
      " 0   id       788 non-null    object \n",
      " 1   name     788 non-null    object \n",
      " 2   country  788 non-null    object \n",
      " 3   lat      788 non-null    float64\n",
      " 4   lon      788 non-null    float64\n",
      "dtypes: float64(2), object(3)\n",
      "memory usage: 36.9+ KB\n"
     ]
    }
   ],
   "source": [
    "airports = df[df['id'].str.startswith('E') | df['id'].str.startswith('L')]\n",
    "airports.head(20)\n",
    "airports.info()"
   ]
  },
  {
   "cell_type": "markdown",
   "id": "4b95c63b",
   "metadata": {},
   "source": [
    "#### 2. Получить данные из задания. Типы самолетов"
   ]
  },
  {
   "cell_type": "markdown",
   "id": "1d78c46c",
   "metadata": {},
   "source": [
    "Формат: код, скорость в узлах.\n",
    "\n",
    "B733 430\n",
    "\n",
    "PAY2 230\n",
    "\n",
    "C500 250\n",
    "\n",
    "B738 440\n",
    "\n",
    "PA34 130\n",
    "\n",
    "A320 420"
   ]
  },
  {
   "cell_type": "markdown",
   "id": "aa2e8a35",
   "metadata": {},
   "source": [
    "Вручную создаем датафрейм с типами самолетов и их скоростями"
   ]
  },
  {
   "cell_type": "code",
   "execution_count": 7,
   "id": "ad4b36ff",
   "metadata": {},
   "outputs": [
    {
     "name": "stdout",
     "output_type": "stream",
     "text": [
      "<class 'pandas.core.frame.DataFrame'>\n",
      "RangeIndex: 6 entries, 0 to 5\n",
      "Data columns (total 2 columns):\n",
      " #   Column  Non-Null Count  Dtype \n",
      "---  ------  --------------  ----- \n",
      " 0   code    6 non-null      object\n",
      " 1   speed   6 non-null      int64 \n",
      "dtypes: int64(1), object(1)\n",
      "memory usage: 224.0+ bytes\n"
     ]
    }
   ],
   "source": [
    "airplanes = pd.DataFrame({'code': ['B733', 'PAY2', 'C500', 'B738', 'PA34', 'A320'],\n",
    "                          'speed': [430, 230, 250, 440, 130, 420]})\n"
   ]
  },
  {
   "cell_type": "markdown",
   "id": "a9b31dde",
   "metadata": {},
   "source": [
    "#### 3. Генерация данных для обработки. Расписание"
   ]
  },
  {
   "cell_type": "markdown",
   "id": "a1b9c640",
   "metadata": {},
   "source": [
    "Набор полей:\n",
    "\n",
    "1. [x] flight number (4 цифры, именно так, это не цифра (123, 12), это 4 отдельные цифры, их всегда 4, например 0000, код оператора нас тут не волнует)\n",
    "2. [x] origin airport code (из первого шага)\n",
    "3. [x] destination airport code (из первого шага)\n",
    "4. [x] aircraft type (из второго шага)\n",
    "5. [x] weekly schedule (строка всегда из 7-и символов, которая содержит дни недели, по которым летает самолетик, каждый день недели отмечен одной буквой на своем месте: М------ - означает, что самолет летает только по понедельникам, M-W-F-- - по понедельникам, средам и пятницам, MTWT--- - тут буквы повторились, но я думаю, идея ясна, что важно, - это день ВЫЛЕТА)\n",
    "6. [x] off-block time (UTC и только время, не дата или день!)\n",
    "7. [x] on-block time (UTC и только время, не дата или день!)"
   ]
  },
  {
   "cell_type": "code",
   "execution_count": 122,
   "id": "ceacbecc",
   "metadata": {},
   "outputs": [],
   "source": [
    "from math import sin, cos, sqrt, atan2, radians\n",
    "from itertools import combinations_with_replacement, permutations\n",
    "from random import choice, randint\n",
    "\n",
    "# Функция для рандомной генерации расписания\n",
    "def get_schedule():\n",
    "    return [\n",
    "        choice(\"-M\"),\n",
    "        choice(\"-T\"),\n",
    "        choice(\"-W\"),\n",
    "        choice(\"-T\"),\n",
    "        choice(\"-F\"),\n",
    "        choice(\"-S\"),\n",
    "        choice(\"-S\"),\n",
    "    ]\n",
    "\n",
    "# Функция для расчета расстояния между координатами на карте\n",
    "def get_distance(dist1, dist2):\n",
    "    # approximate radius of earth in km\n",
    "    R = 6373.0\n",
    "\n",
    "    lat1, lon1 = dist1\n",
    "    lat2, lon2 = dist2\n",
    "\n",
    "    dlon = lon2 - lon1\n",
    "    dlat = lat2 - lat1\n",
    "\n",
    "    a = sin(dlat / 2)**2 + cos(lat1) * cos(lat2) * sin(dlon / 2)**2\n",
    "    c = 2 * atan2(sqrt(a), sqrt(1 - a))\n",
    "\n",
    "    distance = R * c\n",
    "    return distance\n",
    "\n",
    "# Функция расчета времени полета\n",
    "def get_flight_time(air_type, dist1, dist2):\n",
    "    distance = get_distance(dist1, dist2)\n",
    "    speed = airplanes[airplanes[\"code\"] == air_type][\"speed\"].values[0]\n",
    "    # узлы в километры\n",
    "    speed = speed * 1.852\n",
    "    \n",
    "    return distance / speed\n"
   ]
  },
  {
   "cell_type": "code",
   "execution_count": 133,
   "id": "ce5f0cd1",
   "metadata": {},
   "outputs": [],
   "source": [
    "unique_codes = airports['id'].unique()\n",
    "flight_numbers = list(permutations(\"0123456789\", 4))\n",
    "dtrange = pd.date_range(start='1/1/2018 17:00:00', end='1/1/2018 23:00:00', freq=\"30T\").values\n",
    "all_flights = []\n",
    "\n",
    "for row in airports.iterrows():\n",
    "    # данные по аэропорту\n",
    "    flights = []\n",
    "    \n",
    "    # Устанавливаем время старта, дата не важна\n",
    "    time_start = datetime.strptime(\"01.01.2022 17:00\", \"%d.%m.%Y %H:%M\")\n",
    "    \n",
    "    # Генерация рандомного кол-ва полетов для каждого аэропорта\n",
    "    for i in range(randint(3, 7)):\n",
    "        \n",
    "        flight_no = \"\".join(flight_numbers.pop())\n",
    "        origin_airp_code = row[1][\"id\"]\n",
    "        dest_airp_code = origin_airp_code\n",
    "\n",
    "        # Защита от рандомной выборки, где destination == origin\n",
    "        while dest_airp_code == origin_airp_code:\n",
    "            dest_airp_code = choice(unique_codes)\n",
    "            \n",
    "        aircraft = choice(airplanes[\"code\"].values)\n",
    "        schedule = \"\".join(get_schedule())\n",
    "        \n",
    "        # Обязательно один полет в 23:00\n",
    "        if i == 0:\n",
    "            off_time = datetime.strptime(\"01.01.2022 23:00\", \"%d.%m.%Y %H:%M\")\n",
    "        else:\n",
    "            off_time = pd.to_datetime(choice(dtrange))\n",
    "        \n",
    "        destination_coords = airports[airports[\"id\"] == dest_airp_code][[\"lat\", \"lon\"]]\n",
    "        dest1 = (row[1][\"lat\"], row[1][\"lon\"])\n",
    "        dest2 = (destination_coords[\"lat\"].values[0], destination_coords[\"lon\"].values[0])\n",
    "        time_in_flight = get_flight_time(aircraft, dest1, dest2)\n",
    "        on_time = (off_time + timedelta(hours=time_in_flight))\n",
    "        \n",
    "        on_time = on_time.strftime(\"%H:%M\")\n",
    "        off_time = off_time.strftime(\"%H:%M\")\n",
    "        \n",
    "        # Добавляем информацию в расписание\n",
    "        flights.append(\n",
    "            {\n",
    "                \"flight_number\": flight_no,\n",
    "                \"origin_airport_code\": origin_airp_code,\n",
    "                \"dest_airport_code\": dest_airp_code,\n",
    "                \"aircraft_type\": aircraft,\n",
    "                \"weekly_schedule\": schedule,\n",
    "                \"off_block_time\": off_time,\n",
    "                \"on_block_time\": on_time,\n",
    "            }\n",
    "        )\n",
    "\n",
    "    all_flights.extend(flights)\n"
   ]
  },
  {
   "cell_type": "markdown",
   "id": "52e0ea88",
   "metadata": {},
   "source": [
    "Создаем итоговый датафрейм с расписанием"
   ]
  },
  {
   "cell_type": "code",
   "execution_count": 134,
   "id": "7788c64d",
   "metadata": {},
   "outputs": [],
   "source": [
    "generated_flights = pd.DataFrame(all_flights)\n",
    "generated_flights.to_csv(\"generated_flights.csv\")"
   ]
  },
  {
   "cell_type": "markdown",
   "id": "85fb4b16",
   "metadata": {},
   "source": [
    "Условия генерации:\n",
    "1. [x] Только аэропорты в Европе (код начинается с E или L, плюс Косово)\n",
    "2. [x] Для каждого аэропорта нужно создать от 3 до 7 (сколько именно - рандом) рейсов в любые другие аэропорты (с тем же ограничением по региону), пары могут повторяться\n",
    "3. [x] Каждый рейс должен иметь уникальный номер (метод генерации не важен, хоть по порядку)\n",
    "4. [x] Каким типом самолета летим - рандом (из списка)\n",
    "5. [x] Каждый рейс должен летать в определенные дни недели (в какие именно - рандом, хоть раз в неделю, хоть каждый день или посередине, но разброс должен быть)\n",
    "6. [x] Время вылета - рандом, условия: между 1700 и 2300 местого времени (хватает данных для этого?), между вылетами разных рейсов не меньше 30 минут, как минимум один летит после 2230\n",
    "7. [x] Время прилета нужно рассчитать используя скорость типа и кратчайшее расстояние между аэропортами (данные для этого у вас есть)\n"
   ]
  }
 ],
 "metadata": {
  "kernelspec": {
   "display_name": "Python 3 (ipykernel)",
   "language": "python",
   "name": "python3"
  },
  "language_info": {
   "codemirror_mode": {
    "name": "ipython",
    "version": 3
   },
   "file_extension": ".py",
   "mimetype": "text/x-python",
   "name": "python",
   "nbconvert_exporter": "python",
   "pygments_lexer": "ipython3",
   "version": "3.10.2"
  }
 },
 "nbformat": 4,
 "nbformat_minor": 5
}
